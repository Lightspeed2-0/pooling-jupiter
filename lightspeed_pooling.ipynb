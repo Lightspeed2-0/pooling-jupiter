{
  "nbformat": 4,
  "nbformat_minor": 0,
  "metadata": {
    "colab": {
      "name": "lightspeed_pooling.ipynb",
      "provenance": [],
      "collapsed_sections": []
    },
    "kernelspec": {
      "name": "python3",
      "display_name": "Python 3"
    },
    "language_info": {
      "name": "python"
    }
  },
  "cells": [
    {
      "cell_type": "code",
      "metadata": {
        "colab": {
          "base_uri": "https://localhost:8080/"
        },
        "id": "1Mr-TwtXaO-Q",
        "outputId": "82161197-1fd0-4166-83a6-1814958423ec"
      },
      "source": [
        "pip install pgeocode"
      ],
      "execution_count": 8,
      "outputs": [
        {
          "output_type": "stream",
          "text": [
            "Requirement already satisfied: pgeocode in /usr/local/lib/python3.7/dist-packages (0.3.0)\n",
            "Requirement already satisfied: requests in /usr/local/lib/python3.7/dist-packages (from pgeocode) (2.23.0)\n",
            "Requirement already satisfied: pandas in /usr/local/lib/python3.7/dist-packages (from pgeocode) (1.1.5)\n",
            "Requirement already satisfied: numpy in /usr/local/lib/python3.7/dist-packages (from pgeocode) (1.19.5)\n",
            "Requirement already satisfied: chardet<4,>=3.0.2 in /usr/local/lib/python3.7/dist-packages (from requests->pgeocode) (3.0.4)\n",
            "Requirement already satisfied: idna<3,>=2.5 in /usr/local/lib/python3.7/dist-packages (from requests->pgeocode) (2.10)\n",
            "Requirement already satisfied: urllib3!=1.25.0,!=1.25.1,<1.26,>=1.21.1 in /usr/local/lib/python3.7/dist-packages (from requests->pgeocode) (1.24.3)\n",
            "Requirement already satisfied: certifi>=2017.4.17 in /usr/local/lib/python3.7/dist-packages (from requests->pgeocode) (2020.12.5)\n",
            "Requirement already satisfied: pytz>=2017.2 in /usr/local/lib/python3.7/dist-packages (from pandas->pgeocode) (2018.9)\n",
            "Requirement already satisfied: python-dateutil>=2.7.3 in /usr/local/lib/python3.7/dist-packages (from pandas->pgeocode) (2.8.1)\n",
            "Requirement already satisfied: six>=1.5 in /usr/local/lib/python3.7/dist-packages (from python-dateutil>=2.7.3->pandas->pgeocode) (1.15.0)\n"
          ],
          "name": "stdout"
        }
      ]
    },
    {
      "cell_type": "code",
      "metadata": {
        "colab": {
          "base_uri": "https://localhost:8080/"
        },
        "id": "dxzBG0fIah0w",
        "outputId": "d4d3563d-51d1-40ca-bf94-65cbd2698c23"
      },
      "source": [
        "pip install requests"
      ],
      "execution_count": 10,
      "outputs": [
        {
          "output_type": "stream",
          "text": [
            "Requirement already satisfied: requests in /usr/local/lib/python3.7/dist-packages (2.23.0)\n",
            "Requirement already satisfied: idna<3,>=2.5 in /usr/local/lib/python3.7/dist-packages (from requests) (2.10)\n",
            "Requirement already satisfied: certifi>=2017.4.17 in /usr/local/lib/python3.7/dist-packages (from requests) (2020.12.5)\n",
            "Requirement already satisfied: urllib3!=1.25.0,!=1.25.1,<1.26,>=1.21.1 in /usr/local/lib/python3.7/dist-packages (from requests) (1.24.3)\n",
            "Requirement already satisfied: chardet<4,>=3.0.2 in /usr/local/lib/python3.7/dist-packages (from requests) (3.0.4)\n"
          ],
          "name": "stdout"
        }
      ]
    },
    {
      "cell_type": "code",
      "metadata": {
        "colab": {
          "base_uri": "https://localhost:8080/"
        },
        "id": "zdhrjszXbO36",
        "outputId": "9d81c7ae-b24e-4dec-d450-0b537a8617ed"
      },
      "source": [
        "pip install matplotlib"
      ],
      "execution_count": 12,
      "outputs": [
        {
          "output_type": "stream",
          "text": [
            "Requirement already satisfied: matplotlib in /usr/local/lib/python3.7/dist-packages (3.2.2)\n",
            "Requirement already satisfied: pyparsing!=2.0.4,!=2.1.2,!=2.1.6,>=2.0.1 in /usr/local/lib/python3.7/dist-packages (from matplotlib) (2.4.7)\n",
            "Requirement already satisfied: kiwisolver>=1.0.1 in /usr/local/lib/python3.7/dist-packages (from matplotlib) (1.3.1)\n",
            "Requirement already satisfied: numpy>=1.11 in /usr/local/lib/python3.7/dist-packages (from matplotlib) (1.19.5)\n",
            "Requirement already satisfied: cycler>=0.10 in /usr/local/lib/python3.7/dist-packages (from matplotlib) (0.10.0)\n",
            "Requirement already satisfied: python-dateutil>=2.1 in /usr/local/lib/python3.7/dist-packages (from matplotlib) (2.8.1)\n",
            "Requirement already satisfied: six in /usr/local/lib/python3.7/dist-packages (from cycler>=0.10->matplotlib) (1.15.0)\n"
          ],
          "name": "stdout"
        }
      ]
    },
    {
      "cell_type": "code",
      "metadata": {
        "id": "aFDifanJbUA-"
      },
      "source": [
        "import math\n",
        "import pgeocode\n",
        "import requests\n",
        "import json"
      ],
      "execution_count": 13,
      "outputs": []
    },
    {
      "cell_type": "code",
      "metadata": {
        "id": "Pxg41z3Zbi3W"
      },
      "source": [
        "def cordinatesDistance(lat1, lon1, lat2, lon2) :\n",
        "    R = 6373.0\n",
        "    \n",
        "    lat1 = math.radians(52.2296756)\n",
        "    lon1 = math.radians(21.0122287)\n",
        "    lat2 = math.radians(52.406374)\n",
        "    lon2 = math.radians(16.9251681)\n",
        "\n",
        "    dlon = lon2 - lon1\n",
        "    dlat = lat2 - lat1\n",
        "    a = math.sin(dlat / 2)**2 + math.cos(lat1) * math.cos(lat2) * math.sin(dlon / 2)**2\n",
        "    c = 2 * math.atan2(math.sqrt(a), math.sqrt(1 - a))\n",
        "    distance = R * c\n",
        "    return round(distance)"
      ],
      "execution_count": 14,
      "outputs": []
    },
    {
      "cell_type": "code",
      "metadata": {
        "id": "VB0tXtKFbnKR"
      },
      "source": [
        "def getCordinates(srcPincode,desPincode) :\n",
        "    latitudearr = []\n",
        "    longitudearr = []\n",
        "    nomi = pgeocode.Nominatim('in')\n",
        "    res = nomi.query_postal_code([srcPincode,desPincode])\n",
        "    latitudearr = res.loc[:,\"latitude\"]\n",
        "    longitudearr = res.loc[:,\"longitude\"]\n",
        "    return { 'src' : [latitudearr[0],longitudearr[0]],'des' : [latitudearr[1],longitudearr[1]]}"
      ],
      "execution_count": 15,
      "outputs": []
    },
    {
      "cell_type": "code",
      "metadata": {
        "id": "E7M2Atarbr0d"
      },
      "source": [
        "def getPaths(srcPincode,desPincode) :\n",
        "    path = []\n",
        "    coordinatesGot = getCordinates(srcPincode,desPincode)\n",
        "    # print(coordinatesGot)\n",
        "    url = \"https://api.openrouteservice.org/v2/directions/driving-car?api_key=5b3ce3597851110001cf624841b747b534394a73b8283ad3de48ff61&start=\"+str(coordinatesGot['src'][1])+\",\"+str(coordinatesGot['src'][0])+\"&\"+\"end=\"+str(coordinatesGot['des'][1])+\",\"+str(coordinatesGot['des'][0])\n",
        "    print(url)\n",
        "    req = requests.get(url)\n",
        "    res = json.loads(req.text)\n",
        "    geometry = res['features'][0]['geometry']\n",
        "    path = geometry['coordinates']\n",
        "    return path"
      ],
      "execution_count": 16,
      "outputs": []
    },
    {
      "cell_type": "code",
      "metadata": {
        "id": "kux7ut7obvro"
      },
      "source": [
        "clientReq = {\n",
        "  \"Weight\": 101,\n",
        "  \"Volume\": 123,\n",
        "  \"srcPincode\": 605602,\n",
        "  \"desPincode\": 600063,\n",
        "}\n",
        "Order = [\n",
        "    {\n",
        "        \"remWeight\": 1010,\n",
        "        \"remVolume\": 123,\n",
        "        \"srcPincode\": 620001,\n",
        "        \"desPincode\": 600044,\n",
        "    }\n",
        "]\n",
        "\n",
        "Routes = []\n",
        "poolArr = []"
      ],
      "execution_count": 17,
      "outputs": []
    },
    {
      "cell_type": "code",
      "metadata": {
        "id": "kfBTNRpgb2Vd"
      },
      "source": [
        "def pool() :\n",
        "    clientCoordinates = getCordinates(str(clientReq[\"srcPincode\"]),str(clientReq[\"desPincode\"]))\n",
        "    for i in range(len(Order)) :\n",
        "        if clientReq[\"Weight\"] <= Order[i][\"remWeight\"] and clientReq[\"Volume\"] <= Order[i][\"remVolume\"] : \n",
        "            Routes = getPaths(str(Order[i]['srcPincode']),str(Order[i]['desPincode']))\n",
        "            sourcePos = -1\n",
        "            print(clientCoordinates)\n",
        "            print('-----------------')\n",
        "            for j in range(len(Routes)) :\n",
        "                # print('hi')\n",
        "                if cordinatesDistance(Routes[j][1],Routes[j][0],clientCoordinates['src'][0],clientCoordinates['src'][0]) <= 20 :\n",
        "                    sourcePos = i\n",
        "                if cordinatesDistance(Routes[j][1],Routes[j][0],clientCoordinates['des'][0],clientCoordinates['des'][0]) <= 20 :\n",
        "                    if sourcePos == -1 :\n",
        "                        break\n",
        "                    else :\n",
        "                        poolArr[i] = Order[i]\n",
        "                        break\n",
        "    print(poolArr)"
      ],
      "execution_count": 18,
      "outputs": []
    },
    {
      "cell_type": "code",
      "metadata": {
        "colab": {
          "base_uri": "https://localhost:8080/"
        },
        "id": "tngcAUDHb9Ya",
        "outputId": "1333d75c-1115-4876-dd8b-e2e5cdcca2ff"
      },
      "source": [
        "pool()"
      ],
      "execution_count": 19,
      "outputs": [
        {
          "output_type": "stream",
          "text": [
            "https://api.openrouteservice.org/v2/directions/driving-car?api_key=5b3ce3597851110001cf624841b747b534394a73b8283ad3de48ff61&start=78.5278,10.8566&end=80.0591125,12.6668\n",
            "{'src': [11.9359, 79.5152], 'des': [13.0063, 79.8869]}\n",
            "-----------------\n",
            "[]\n"
          ],
          "name": "stdout"
        }
      ]
    },
    {
      "cell_type": "code",
      "metadata": {
        "id": "Fxxu4OJib_WA"
      },
      "source": [
        ""
      ],
      "execution_count": null,
      "outputs": []
    }
  ]
}